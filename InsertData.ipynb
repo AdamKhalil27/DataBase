{
  "nbformat": 4,
  "nbformat_minor": 0,
  "metadata": {
    "colab": {
      "provenance": [],
      "authorship_tag": "ABX9TyPY2Bxq9YOv8M0pFHQ/+Yo/",
      "include_colab_link": true
    },
    "kernelspec": {
      "name": "python3",
      "display_name": "Python 3"
    },
    "language_info": {
      "name": "python"
    }
  },
  "cells": [
    {
      "cell_type": "markdown",
      "metadata": {
        "id": "view-in-github",
        "colab_type": "text"
      },
      "source": [
        "<a href=\"https://colab.research.google.com/github/AdamKhalil27/DataBase/blob/main/InsertData.ipynb\" target=\"_parent\"><img src=\"https://colab.research.google.com/assets/colab-badge.svg\" alt=\"Open In Colab\"/></a>"
      ]
    },
    {
      "cell_type": "code",
      "execution_count": null,
      "metadata": {
        "id": "Vdve-MRpQnvq"
      },
      "outputs": [],
      "source": [
        "import sqlite3"
      ]
    },
    {
      "cell_type": "code",
      "source": [
        "conn = sqlite3.connect('DataBase.sql')\n",
        "print(\"Opened Data Successfully\")"
      ],
      "metadata": {
        "colab": {
          "base_uri": "https://localhost:8080/"
        },
        "id": "buJmWBGrQ9XC",
        "outputId": "29ce4268-3c00-4f39-a144-5bee50ab8f7c"
      },
      "execution_count": null,
      "outputs": [
        {
          "output_type": "stream",
          "name": "stdout",
          "text": [
            "Opened Data Successfully\n"
          ]
        }
      ]
    },
    {
      "cell_type": "code",
      "source": [
        "conn.execute('''CREATE TABLE Countries (\n",
        "\tcountry_code         CHAR(2) NOT NULL  PRIMARY KEY  ,\n",
        "\tcountry_name         VARCHAR(100) NOT NULL\n",
        " );\n",
        "''')\n",
        "print(\"Table created successfully\")"
      ],
      "metadata": {
        "colab": {
          "base_uri": "https://localhost:8080/"
        },
        "id": "bd_wP-Q1RaA4",
        "outputId": "c2da1e8e-60b5-44bc-e9b1-8af667ca7dc7"
      },
      "execution_count": null,
      "outputs": [
        {
          "output_type": "stream",
          "name": "stdout",
          "text": [
            "Table created successfully\n"
          ]
        }
      ]
    },
    {
      "cell_type": "code",
      "source": [
        "conn.execute('''CREATE TABLE Languages (\n",
        "\tlanguage             CHAR(20)     ,\n",
        "\tcountry_code         CHAR(2) NOT NULL    ,\n",
        "\tFOREIGN KEY ( country_code ) REFERENCES Countries( country_code )\n",
        " );\n",
        "\n",
        "''')\n",
        "print(\"Table created successfully\")"
      ],
      "metadata": {
        "colab": {
          "base_uri": "https://localhost:8080/"
        },
        "id": "_K8DubiqRaHw",
        "outputId": "ee724bbe-b9c2-46c9-e78d-3620b0cd4990"
      },
      "execution_count": null,
      "outputs": [
        {
          "output_type": "stream",
          "name": "stdout",
          "text": [
            "Table created successfully\n"
          ]
        }
      ]
    },
    {
      "cell_type": "code",
      "source": [
        "conn.execute('''CREATE TABLE Vehicle (\n",
        "\tVehicleID            VARCHAR(5) NOT NULL  PRIMARY KEY  ,\n",
        "\tRegistrationID       VARCHAR(10) NOT NULL    ,\n",
        "\tManufacturer         VARCHAR(30)     ,\n",
        "\tModel                VARCHAR(20)     ,\n",
        "\tColor                VARCHAR(20)     ,\n",
        "\tCurrent_Odometer     INTEGER     ,\n",
        "\tPassangerCapacity    INTEGER NOT NULL    ,\n",
        "\tAvailability         BOOLEAN NOT NULL\n",
        " );\n",
        " ''')\n",
        "print(\"Table created successfully\")"
      ],
      "metadata": {
        "colab": {
          "base_uri": "https://localhost:8080/"
        },
        "id": "lGfIsXy0SVcC",
        "outputId": "6a2efebe-b24e-456d-d401-12fcf98a8af5"
      },
      "execution_count": null,
      "outputs": [
        {
          "output_type": "stream",
          "name": "stdout",
          "text": [
            "Table created successfully\n"
          ]
        }
      ]
    },
    {
      "cell_type": "code",
      "source": [
        "conn.execute('''CREATE TABLE VehicleState (\n",
        "\tactionid             INTEGER NOT NULL  PRIMARY KEY  ,\n",
        "\tActionType           CHAR(1) NOT NULL    ,\n",
        "\tOdometer             INTEGER     ,\n",
        "\tfinal_cost           FLOAT NOT NULL    ,\n",
        "\tbrief_description    TEXT     ,\n",
        "\tdate                 DATE     ,\n",
        "\tVehicleID            VARCHAR(5) NOT NULL    ,\n",
        "\tFOREIGN KEY ( VehicleID ) REFERENCES Vehicle( VehicleID )\n",
        " );\n",
        "\n",
        "''')\n",
        "print(\"Table created successfully\")"
      ],
      "metadata": {
        "colab": {
          "base_uri": "https://localhost:8080/"
        },
        "id": "ZZy3YJ8TSVhI",
        "outputId": "928871d0-f61b-4984-b004-f5e67d9a2da3"
      },
      "execution_count": null,
      "outputs": [
        {
          "output_type": "stream",
          "name": "stdout",
          "text": [
            "Table created successfully\n"
          ]
        }
      ]
    },
    {
      "cell_type": "code",
      "source": [
        "conn.execute('''CREATE TABLE games_official (\n",
        "\tofficial_id          CHAR(8) NOT NULL  PRIMARY KEY  ,\n",
        "\tname                 VARCHAR(100) NOT NULL    ,\n",
        "\tpreferred_language   VARCHAR(100)     ,\n",
        "\tcountry              CHAR(100)     ,\n",
        "\t\"r.model\"            TEXT     ,\n",
        "\t\"r.color\"            TEXT     ,\n",
        "\t\"r.clearance_level\"  TEXT\n",
        " );\n",
        "\n",
        "''')\n",
        "print(\"Table created successfully\")"
      ],
      "metadata": {
        "colab": {
          "base_uri": "https://localhost:8080/"
        },
        "id": "AyQloDkLSVn4",
        "outputId": "c12bf927-c46f-4275-a4ed-e76e36841921"
      },
      "execution_count": null,
      "outputs": [
        {
          "output_type": "stream",
          "name": "stdout",
          "text": [
            "Table created successfully\n"
          ]
        }
      ]
    },
    {
      "cell_type": "code",
      "source": [
        "conn.execute('''CREATE TABLE Driver (\n",
        "\tDriverID             INTEGER NOT NULL  PRIMARY KEY  ,\n",
        "\tname                 VARCHAR(100) NOT NULL    ,\n",
        "\tlicence_number       VARCHAR(18)     ,\n",
        "\tclearance_level      INTEGER NOT NULL    ,\n",
        "\tfatl                 BOOLEAN NOT NULL    ,\n",
        "\tSTLVT                BOOLEAN NOT NULL    ,\n",
        "\tVehicleID            VARCHAR(5) NOT NULL    ,\n",
        "\tFOREIGN KEY ( VehicleID ) REFERENCES Vehicle( VehicleID )\n",
        " );\n",
        "\n",
        "''')\n",
        "print(\"Table created successfully\")"
      ],
      "metadata": {
        "colab": {
          "base_uri": "https://localhost:8080/"
        },
        "id": "EpFjRX3GSVtr",
        "outputId": "85e56b00-7c9d-4a1b-9da8-2ae38e7e8450"
      },
      "execution_count": null,
      "outputs": [
        {
          "output_type": "stream",
          "name": "stdout",
          "text": [
            "Table created successfully\n"
          ]
        }
      ]
    },
    {
      "cell_type": "code",
      "source": [
        "conn.execute('''CREATE TABLE STLVT (\n",
        "\tlevel                INTEGER NOT NULL    ,\n",
        "\t\"qualification date\" DATE NOT NULL    ,\n",
        "\t\"certifying authority\" VARCHAR(30) NOT NULL    ,\n",
        "\tDriverID             INTEGER NOT NULL    ,\n",
        "\tFOREIGN KEY ( DriverID ) REFERENCES Driver( DriverID )\n",
        " );\n",
        "\n",
        "''')\n",
        "print(\"Table created successfully\")"
      ],
      "metadata": {
        "colab": {
          "base_uri": "https://localhost:8080/"
        },
        "id": "-w-DpmX9Sbv9",
        "outputId": "57d5291f-10c6-42d1-c5de-11b310e66198"
      },
      "execution_count": null,
      "outputs": [
        {
          "output_type": "stream",
          "name": "stdout",
          "text": [
            "Table created successfully\n"
          ]
        }
      ]
    },
    {
      "cell_type": "code",
      "source": [
        "conn.execute('''CREATE TABLE fatl (\n",
        "\tlevel                INTEGER NOT NULL    ,\n",
        "\t\"qualification date\" DATE NOT NULL    ,\n",
        "\tDriverID             INTEGER NOT NULL    ,\n",
        "\tFOREIGN KEY ( DriverID ) REFERENCES Driver( DriverID )\n",
        " );\n",
        "\n",
        "''')\n",
        "print(\"Table created successfully\")"
      ],
      "metadata": {
        "colab": {
          "base_uri": "https://localhost:8080/"
        },
        "id": "cgWkW8ReSx_b",
        "outputId": "e8c62e3f-13ea-4a90-e1c0-602c416fbcb9"
      },
      "execution_count": null,
      "outputs": [
        {
          "output_type": "stream",
          "name": "stdout",
          "text": [
            "Table created successfully\n"
          ]
        }
      ]
    },
    {
      "cell_type": "code",
      "source": [
        "conn.execute('''CREATE TABLE Booking (\n",
        "\tbookingID            INTEGER NOT NULL  PRIMARY KEY  ,\n",
        "\tpickup_type          VARCHAR(100) NOT NULL    ,\n",
        "\tpick_address         VARCHAR(100) NOT NULL    ,\n",
        "\tdropoff_address      VARCHAR(100) NOT NULL    ,\n",
        "\tdropoff_type         VARCHAR(100) NOT NULL    ,\n",
        "\tstart_date_time      DATETIME NOT NULL    ,\n",
        "\tend_date_time        DATETIME NOT NULL    ,\n",
        "\tend_odometer         INTEGER NOT NULL    ,\n",
        "\tCurrent_Odometer     INTEGER     ,\n",
        "\tofficial_id          CHAR(8) NOT NULL    ,\n",
        "\tDriverID             INTEGER NOT NULL    ,\n",
        "\tFOREIGN KEY ( Current_Odometer ) REFERENCES Vehicle( Current_Odometer )  ,\n",
        "\tFOREIGN KEY ( official_id ) REFERENCES games_official( official_id )  ,\n",
        "\tFOREIGN KEY ( DriverID ) REFERENCES Driver( DriverID )\n",
        " );\n",
        "\n",
        "\n",
        "''')\n",
        "print(\"Table created successfully\")"
      ],
      "metadata": {
        "colab": {
          "base_uri": "https://localhost:8080/"
        },
        "id": "479iWaBgScF9",
        "outputId": "bd198f6c-2a36-4421-d73d-bb5734773a9f"
      },
      "execution_count": null,
      "outputs": [
        {
          "output_type": "stream",
          "name": "stdout",
          "text": [
            "Table created successfully\n"
          ]
        }
      ]
    },
    {
      "cell_type": "code",
      "source": [
        "conn.commit()"
      ],
      "metadata": {
        "id": "cowPiVQyWYCD"
      },
      "execution_count": null,
      "outputs": []
    },
    {
      "cell_type": "code",
      "source": [
        "conn = sqlite3.connect('DataBase.sql')\n",
        "cursor = conn.execute(\"Select name From sqlite_master WHERE type = 'table';\")\n",
        "tables= [table[0] for table in cursor.fetchall()]\n",
        "print(\"Tables\", tables)"
      ],
      "metadata": {
        "colab": {
          "base_uri": "https://localhost:8080/"
        },
        "id": "G_HB2usUVFHi",
        "outputId": "a827b5cd-2694-46b1-eacd-34f99db892fc"
      },
      "execution_count": null,
      "outputs": [
        {
          "output_type": "stream",
          "name": "stdout",
          "text": [
            "Tables ['Countries', 'Languages', 'Vehicle', 'VehicleState', 'games_official', 'Driver', 'STLVT', 'fatl', 'Booking']\n"
          ]
        }
      ]
    },
    {
      "cell_type": "code",
      "source": [
        "conn.commit()"
      ],
      "metadata": {
        "id": "PWV0MHqrX1Dq"
      },
      "execution_count": null,
      "outputs": []
    },
    {
      "cell_type": "code",
      "source": [
        "conn = sqlite3.connect('DataBase.sql')\n",
        "conn.execute('''INSERT OR REPLACE INTO Vehicle (VehicleID, RegistrationID, Manufacturer, Model, color, Current_Odometer, PassangerCapacity, Availability)\n",
        "  VALUES\n",
        "    ('V1000', '2001 ABC', 'Volvo', 'XC90 SE', 'Silver', '4350', '4', 'True'),\n",
        "    ('V1001', '2006 AFD', 'Kia', 'K7', 'Black', '2195', '4', 'False'),\n",
        "    ('V1002', '2021 AHR', 'Tesla', '2020 F', 'White', '509', '4', 'True')\n",
        "  ''')\n"
      ],
      "metadata": {
        "colab": {
          "base_uri": "https://localhost:8080/"
        },
        "id": "M1kXEhNzfJtf",
        "outputId": "f1848be2-c76a-42c1-91f3-019e1011f5d8"
      },
      "execution_count": null,
      "outputs": [
        {
          "output_type": "execute_result",
          "data": {
            "text/plain": [
              "<sqlite3.Cursor at 0x7b7137f59940>"
            ]
          },
          "metadata": {},
          "execution_count": 9
        }
      ]
    },
    {
      "cell_type": "code",
      "source": [
        "def list():\n",
        "  conn = sqlite3.connect('DataBase.sql')\n",
        "  cursor = conn.execute(\"SELECT Manufacturer from Vehicle\")\n",
        "  print(\"Here are the table: \")\n",
        "  for row in cursor:\n",
        "    print(\" VehicleID= \", row[0])\n",
        "list()\n"
      ],
      "metadata": {
        "colab": {
          "base_uri": "https://localhost:8080/"
        },
        "id": "yNqyRMM6YkWj",
        "outputId": "97053951-909b-45c9-c2d1-c97eef9eafab"
      },
      "execution_count": null,
      "outputs": [
        {
          "output_type": "stream",
          "name": "stdout",
          "text": [
            "Here are the table: \n",
            " VehicleID=  Volvo\n",
            " VehicleID=  Kia\n",
            " VehicleID=  Tesla\n"
          ]
        }
      ]
    },
    {
      "cell_type": "code",
      "source": [
        "conn.commit()"
      ],
      "metadata": {
        "id": "zJcJKjmWfQ3L"
      },
      "execution_count": null,
      "outputs": []
    },
    {
      "cell_type": "code",
      "source": [
        "def list():\n",
        "  conn = sqlite3.connect('DataBase.sql')\n",
        "  cursor = conn.execute(\"SELECT name from games_official\")\n",
        "  print(\"Here are the table: \")\n",
        "  for row in cursor:\n",
        "    print(\" official_id= \", row[0])\n",
        "list()\n"
      ],
      "metadata": {
        "colab": {
          "base_uri": "https://localhost:8080/"
        },
        "id": "7XKCCdIwcfA5",
        "outputId": "26ce88bd-4f1b-4a28-f08f-df6c8799566e"
      },
      "execution_count": null,
      "outputs": [
        {
          "output_type": "stream",
          "name": "stdout",
          "text": [
            "Here are the table: \n"
          ]
        }
      ]
    },
    {
      "cell_type": "code",
      "source": [
        "conn = sqlite3.connect('DataBase.sql')\n",
        "conn.execute('''INSERT INTO Countries (country_code, country_name)\n",
        "  VALUES\n",
        "    ('ISO3166-2:IR', 'Iran'),\n",
        "    ('ISO3166-2:FR', 'France')\n",
        "  ''')"
      ],
      "metadata": {
        "colab": {
          "base_uri": "https://localhost:8080/"
        },
        "id": "9rqai6Ougq2X",
        "outputId": "bfa20064-7170-4f6f-e06a-c52352122b49"
      },
      "execution_count": null,
      "outputs": [
        {
          "output_type": "execute_result",
          "data": {
            "text/plain": [
              "<sqlite3.Cursor at 0x7b7137f59cc0>"
            ]
          },
          "metadata": {},
          "execution_count": 13
        }
      ]
    },
    {
      "cell_type": "code",
      "source": [
        "def list():\n",
        "  conn = sqlite3.connect('DataBase.sql')\n",
        "  cursor = conn.execute(\"SELECT brief_description from VehicleState\")\n",
        "  print(\"Here are the table: \")\n",
        "  for row in cursor:\n",
        "    print(\" actionid= \", row[0])\n",
        "list()\n"
      ],
      "metadata": {
        "colab": {
          "base_uri": "https://localhost:8080/"
        },
        "id": "2qpJS92rcev4",
        "outputId": "c29dc434-fef5-45c4-831a-0f1e318a33f3"
      },
      "execution_count": null,
      "outputs": [
        {
          "output_type": "stream",
          "name": "stdout",
          "text": [
            "Here are the table: \n",
            " actionid=  Red Vehicle\n",
            " actionid=  Blue Vehicle\n"
          ]
        }
      ]
    },
    {
      "cell_type": "code",
      "source": [
        "conn.execute('''INSERT INTO Languages (language, country_code)\n",
        "VALUES\n",
        "    ('English', 'US'),\n",
        "    ('Korean', 'KR'),\n",
        "    ('Spanish', 'ES')\n",
        "''')\n"
      ],
      "metadata": {
        "colab": {
          "base_uri": "https://localhost:8080/"
        },
        "id": "MGxv_OG9-JEm",
        "outputId": "9b88fe62-80a3-4342-f791-14891f08ab99"
      },
      "execution_count": null,
      "outputs": [
        {
          "output_type": "execute_result",
          "data": {
            "text/plain": [
              "<sqlite3.Cursor at 0x7fa0ca82f040>"
            ]
          },
          "metadata": {},
          "execution_count": 12
        }
      ]
    },
    {
      "cell_type": "code",
      "source": [
        "conn = sqlite3.connect('DataBase.sql')\n",
        "conn.execute('''INSERT INTO VehicleState (actionid, ActionType, Odometer, final_cost, brief_description, date, VehicleID)\n",
        "  VALUES\n",
        "    ('1', 'R', '2195', '3000', 'Red Vehicle', '2002-11-13', 'V1000'),\n",
        "    ('2', 'M', '1194', '5000', 'Blue Vehicle', '2001-10-12', 'V1001')\n",
        "  ''')"
      ],
      "metadata": {
        "colab": {
          "base_uri": "https://localhost:8080/"
        },
        "id": "cy57_SVOpmM4",
        "outputId": "d6ac367d-9f29-4b42-e072-4f25a71259b2"
      },
      "execution_count": null,
      "outputs": [
        {
          "output_type": "execute_result",
          "data": {
            "text/plain": [
              "<sqlite3.Cursor at 0x7fa0ca82c640>"
            ]
          },
          "metadata": {},
          "execution_count": 3
        }
      ]
    },
    {
      "cell_type": "code",
      "source": [
        "conn.execute('''INSERT INTO games_official (official_id, name, preferred_language, country, \"r.model\", \"r.color\", \"r.clearance_level\")\n",
        "VALUES\n",
        "    ('OFCL001', 'Adam Khalil', 'EN', 'USA', 'K7', 'Black', '3'),\n",
        "    ('OFCL002', 'Gojo Satoru', 'ES', 'Spain', 'XC90 SE', 'Silver', '2'),\n",
        "    ('OFCL003', 'Erling Haaland', 'JA', 'Japan', 'Model S', 'Red', '4')\n",
        "''')\n"
      ],
      "metadata": {
        "colab": {
          "base_uri": "https://localhost:8080/"
        },
        "id": "BPL-ikOas9uc",
        "outputId": "f89fe1da-3d07-4054-c79d-7a52c0fc8495"
      },
      "execution_count": null,
      "outputs": [
        {
          "output_type": "execute_result",
          "data": {
            "text/plain": [
              "<sqlite3.Cursor at 0x7fa0ca82cc40>"
            ]
          },
          "metadata": {},
          "execution_count": 4
        }
      ]
    },
    {
      "cell_type": "code",
      "source": [
        "conn.execute('''INSERT INTO Driver (DriverID, name, licence_number, clearance_level, fatl, STLVT, VehicleID)\n",
        "VALUES\n",
        "    (1, 'John Smith', 'ABC123456789012345', 3, True, True, 'V1000'),\n",
        "    (2, 'Maxime Dupont', 'XYZ987654321098765', 2, True, False, 'V1001'),\n",
        "    (3, 'Boris Johnson', 'LMN456789012345678', 4, False, True, 'V1002')\n",
        "''')\n"
      ],
      "metadata": {
        "colab": {
          "base_uri": "https://localhost:8080/"
        },
        "id": "ypcV8H92yp26",
        "outputId": "cfe58a36-9cd8-4b03-dd9b-bef7c969a5e7"
      },
      "execution_count": null,
      "outputs": [
        {
          "output_type": "execute_result",
          "data": {
            "text/plain": [
              "<sqlite3.Cursor at 0x7fa0ca82d5c0>"
            ]
          },
          "metadata": {},
          "execution_count": 5
        }
      ]
    },
    {
      "cell_type": "code",
      "source": [
        "conn.execute('''INSERT INTO STLVT (level, \"qualification date\", \"certifying authority\", DriverID)\n",
        "VALUES\n",
        "    (1, '2023-01-15', 'Local Police Station', 1),\n",
        "    (2, '2023-02-20', 'Foreign Police Station', 2),\n",
        "    (3, '2023-03-10', 'Local Police Station', 3)\n",
        "''')"
      ],
      "metadata": {
        "colab": {
          "base_uri": "https://localhost:8080/"
        },
        "id": "td0v2VFezAEx",
        "outputId": "22f4cbf2-7bb7-49dc-b747-db32a5504f26"
      },
      "execution_count": null,
      "outputs": [
        {
          "output_type": "execute_result",
          "data": {
            "text/plain": [
              "<sqlite3.Cursor at 0x7fa0ca82ca40>"
            ]
          },
          "metadata": {},
          "execution_count": 6
        }
      ]
    },
    {
      "cell_type": "code",
      "source": [
        "conn.execute('''INSERT INTO FATL (level, \"qualification date\", DriverID)\n",
        "VALUES\n",
        "    (1, '2023-04-05', 1),\n",
        "    (2, '2023-05-10', 2),\n",
        "    (3, '2023-06-15', 3)\n",
        "''')"
      ],
      "metadata": {
        "colab": {
          "base_uri": "https://localhost:8080/"
        },
        "id": "4ulLOcz6zKN5",
        "outputId": "67ea4b27-4771-457f-be62-2e1dc8b12ecc"
      },
      "execution_count": null,
      "outputs": [
        {
          "output_type": "execute_result",
          "data": {
            "text/plain": [
              "<sqlite3.Cursor at 0x7fa0ca82d540>"
            ]
          },
          "metadata": {},
          "execution_count": 7
        }
      ]
    },
    {
      "cell_type": "code",
      "source": [
        "conn.execute('''INSERT INTO Booking (bookingID, pickup_type, pick_address, dropoff_address, dropoff_type, start_date_time, end_date_time, end_odometer, Current_Odometer, official_id, DriverID)\n",
        "VALUES\n",
        "    (1, 'Hotel', 'Hotel A', 'Airport', 'Airport', '2023-07-15 10:00', '2023-07-15 12:00', 4500, 4350, 'OFCL001', 1),\n",
        "    (2, 'Aquatic Center', 'Aquatic Center', 'Hotel B', 'Hotel', '2023-07-20 14:00', '2023-07-20 16:00', 2200, 2195, 'OFCL002', 2),\n",
        "    (3, 'Hotel', 'Hotel C', 'Hotel D', 'Hotel', '2023-07-25 09:00', '2023-07-25 11:00', 600, 509, 'OFCL003', 3)\n",
        "''')\n"
      ],
      "metadata": {
        "colab": {
          "base_uri": "https://localhost:8080/"
        },
        "id": "dg4rTmDzzKQ7",
        "outputId": "2eed63d9-984f-4805-82a2-9bf8fc280430"
      },
      "execution_count": null,
      "outputs": [
        {
          "output_type": "execute_result",
          "data": {
            "text/plain": [
              "<sqlite3.Cursor at 0x7fa0ca82dbc0>"
            ]
          },
          "metadata": {},
          "execution_count": 8
        }
      ]
    },
    {
      "cell_type": "code",
      "source": [
        "conn.execute('''CREATE TRIGGER LanguageMatchingCheck\n",
        "BEFORE INSERT ON Booking\n",
        "FOR EACH ROW\n",
        "BEGIN\n",
        "    -- Get the preferred language of the driver\n",
        "    SELECT preferred_language INTO driver_language\n",
        "    FROM Driver\n",
        "    WHERE DriverID = NEW.DriverID;\n",
        "\n",
        "    -- Get the preferred language of the game official\n",
        "    SELECT preferred_language INTO official_language\n",
        "    FROM games_official\n",
        "    WHERE official_id = NEW.official_id;\n",
        "\n",
        "    -- Check if the languages match\n",
        "    IF driver_language <> official_language THEN\n",
        "        -- Raise an error if the languages do not match\n",
        "        SELECT RAISE(ABORT, 'Driver language does not match the official language.');\n",
        "    END IF;\n",
        "END;\n",
        "''')\n"
      ],
      "metadata": {
        "colab": {
          "base_uri": "https://localhost:8080/",
          "height": 254
        },
        "id": "7v7k3CEKf6Sl",
        "outputId": "a536e5dd-ee7e-42b8-bdae-2a626eaf54ab"
      },
      "execution_count": null,
      "outputs": [
        {
          "output_type": "error",
          "ename": "OperationalError",
          "evalue": "ignored",
          "traceback": [
            "\u001b[0;31m---------------------------------------------------------------------------\u001b[0m",
            "\u001b[0;31mOperationalError\u001b[0m                          Traceback (most recent call last)",
            "\u001b[0;32m<ipython-input-27-58ab9229b079>\u001b[0m in \u001b[0;36m<cell line: 1>\u001b[0;34m()\u001b[0m\n\u001b[0;32m----> 1\u001b[0;31m conn.execute('''CREATE TRIGGER LanguageMatchingCheck\n\u001b[0m\u001b[1;32m      2\u001b[0m \u001b[0mBEFORE\u001b[0m \u001b[0mINSERT\u001b[0m \u001b[0mON\u001b[0m \u001b[0mBooking\u001b[0m\u001b[0;34m\u001b[0m\u001b[0;34m\u001b[0m\u001b[0m\n\u001b[1;32m      3\u001b[0m \u001b[0mFOR\u001b[0m \u001b[0mEACH\u001b[0m \u001b[0mROW\u001b[0m\u001b[0;34m\u001b[0m\u001b[0;34m\u001b[0m\u001b[0m\n\u001b[1;32m      4\u001b[0m \u001b[0mBEGIN\u001b[0m\u001b[0;34m\u001b[0m\u001b[0;34m\u001b[0m\u001b[0m\n\u001b[1;32m      5\u001b[0m     \u001b[0;34m-\u001b[0m\u001b[0;34m-\u001b[0m \u001b[0mGet\u001b[0m \u001b[0mthe\u001b[0m \u001b[0mpreferred\u001b[0m \u001b[0mlanguage\u001b[0m \u001b[0mof\u001b[0m \u001b[0mthe\u001b[0m \u001b[0mdriver\u001b[0m\u001b[0;34m\u001b[0m\u001b[0;34m\u001b[0m\u001b[0m\n",
            "\u001b[0;31mOperationalError\u001b[0m: near \"INTO\": syntax error"
          ]
        }
      ]
    }
  ]
}